{
 "cells": [
  {
   "cell_type": "markdown",
   "metadata": {},
   "source": [
    "# Homework Assignment 1\n",
    "## Git practice, debugging practice, and new Python packages, and Python classes"
   ]
  },
  {
   "cell_type": "markdown",
   "metadata": {},
   "source": [
    "### <p style=\"text-align: right;\"> &#9989; Rithvik burri</p>\n",
    "### <p style=\"text-align: right;\"> &#9989; burririt</p>"
   ]
  },
  {
   "cell_type": "markdown",
   "metadata": {},
   "source": [
    "### Goals for this homework assignment\n",
    "By the end of this assignment, you should be able to:\n",
    "* Use Git to create a repository, track changes to the files within the repository, and push those changes to a remote repository.\n",
    "* Debug some basic Python code that involves Pandas.\n",
    "* Read documentation and example code to use a new Python package\n",
    "* Modify and use a simple Python class\n",
    "\n",
    "Work through the following assignment, making sure to follow all of the directions and answer all of the questions.\n",
    "\n",
    "There are **68 points** possible on this assignment. Point values for each part are included in the section headers and question prompts.\n",
    "\n",
    "**This assignment is due at 11:59 pm on Friday, February 21st.** It should be uploaded into the \"Homework Assignments\" submission folder for Homework #1 on D2L.  Submission instructions can be found at the end of the notebook. **You must also fill out a survey regarding this assignment.** The link to this survey can also be found at the end of the notebook."
   ]
  },
  {
   "cell_type": "markdown",
   "metadata": {},
   "source": [
    "\n",
    "<a id=\"toc\"></a>\n",
    "\n",
    "## Table of contents\n",
    "\n",
    "0. [Part 0: Office Hours and Help Room](#ofhrs) (6 points) \n",
    "\n",
    "1. [Part 1: Git and CLI](#gits) (14 points)\n",
    "\n",
    "2. [Part 2: Debugging](#debugging) (7 points)\n",
    "\n",
    "3. [Part 3: Downloading and analyzing unfamiliar data](#unfamiliar) (8 points)\n",
    "\n",
    "4. [Part 4: Using documentation to use a new Python package](#folium) (11 points)\n",
    "\n",
    "5. [Part 5: Practice with using Python classes](#classes) (16 points)\n",
    "\n",
    "6. [Part 6: Finishing](#conclusion) (6 points)"
   ]
  },
  {
   "cell_type": "code",
   "execution_count": 1,
   "metadata": {},
   "outputs": [
    {
     "name": "stdout",
     "output_type": "stream",
     "text": [
      "Total number of points possible on this assignment is 68.\n"
     ]
    }
   ],
   "source": [
    "# Calculate total points possible and print it\n",
    "print(\"Total number of points possible on this assignment is %i.\" %(6+14+7+8+11+16+6))"
   ]
  },
  {
   "cell_type": "markdown",
   "metadata": {},
   "source": [
    "---\n",
    "<a id=\"ofhrs\"></a>\n",
    "[Back to ToC](#toc)\n",
    "\n",
    "\n",
    "## Part 0: Visiting Office Hours or Help Room (6 points)\n"
   ]
  },
  {
   "cell_type": "markdown",
   "metadata": {},
   "source": [
    "### Going to Office Hours or Help Room\n",
    "\n",
    "#### Why are we doing this?\n",
    "We want to make sure that everyone knows how to access the resources available to you. One of the best resources you have at your disposal is office hours/help room.\n",
    "\n",
    "#### What will you do?\n",
    "(At minimum) Go to one office hour or help room session ​(it doesn’t matter which one you go to). Come with one question that you would like to talk about. It can be big or small. It can be about the homework, but it doesn't have to be. It can be anything about the course or about computational modeling and data analysis in general.\n",
    "\n",
    "Once you get to office hours or help room, ask your question. All of the instructors for CMSE 202 (Professors, TAs, and LAs) will be adding to a running list of folks that we see during office hours; as long as your name appears on the list, you’ll get credit for this part of Homework 1.\n",
    "\n",
    "**NOTE:** The day when the homework is due (**Friday, February 21st at 11:59pm**) will be the busiest time for folks to go to office hours or help room. You are **STRONGLY** encouraged to go to office hours or help room before Friday to get credit for this part of this assignment. (You should still feel free to go to office hours or helproom on Friday for help, though!)\n",
    "\n",
    "You can find the office hours calendar on the [course website](https://cmse.msu.edu/cmse202).\n",
    "\n",
    "**FINAL NOTE:** If you are unable to attend office hours or help room, please contact the instructor to make alternative arrangements and explain why you are unable to attend."
   ]
  },
  {
   "cell_type": "markdown",
   "metadata": {},
   "source": [
    "**&#9989; **Question 0.1 (6 points)****\n",
    "\n",
    "Type below the question you asked and **who you asked it to** (make sure you know who you're talking to!). Make sure you double-check that the instructor made note of this.\n",
    "\n",
    "If you did not attend office hours or help room, please explain why."
   ]
  },
  {
   "cell_type": "markdown",
   "metadata": {},
   "source": [
    "<font size=6 color=\"#009600\">&#9998;</font> *I saw that you're available during office hours according to the course website. I have a general question—will thoroughly studying the pre-class materials, in-class activities, and Homework 1 be sufficient preparation to do well on the exam?*\n",
    "\n",
    "<font size=6 color=\"#009600\">&#9998;</font> *Max Gregg*"
   ]
  },
  {
   "cell_type": "markdown",
   "metadata": {},
   "source": [
    "---\n",
    "<a id=\"gits\"></a>\n",
    "[Back to ToC](#toc)\n",
    "\n",
    "## Part 1: CLI and Git (14 points)\n",
    "\n",
    "### Setting up a git repository to track your progress on your assignments \n",
    "\n",
    "`git` is a very important professional tool and we want you to get plenty of practice using it. The following set of questions prompt you to create a (private) Git repo for storing, updating, and turning in your homework assignments. You will **share this repo with your course lead instructor and TA** so that they can pull your completed assignments for grading."
   ]
  },
  {
   "cell_type": "markdown",
   "metadata": {},
   "source": [
    "&#9989; **Question 1.1 (2 points)**:\n",
    "1. On [GitHub](https://github.com) make sure you are logged into your account and then, if you haven't already, create a new <font color=\"red\">**_private_**</font> GitHub repository called `cmse202-s25-turnin`. <font color=\"red\">**Important note**</font>: you may have already created repository in a PCA, if you have, please use that one. If you have not, please create a new one.\n",
    "2. Once you've initialized the repository on GitHub, **clone a copy of it onto JupyterHub or your computer**."
   ]
  },
  {
   "cell_type": "markdown",
   "metadata": {},
   "source": [
    "``` bash\n",
    "# Put the command you used to clone the repository here\n",
    "git clone https://github.com/burririt/CMSE202-s25-turnin.git\n",
    "```\n"
   ]
  },
  {
   "cell_type": "markdown",
   "metadata": {},
   "source": [
    "&#9989; **Question 1.2 (1 point)**: Using the command line interface, move inside the repository folder\n",
    "\n",
    "What command did you use to enter into the folder?"
   ]
  },
  {
   "cell_type": "markdown",
   "metadata": {},
   "source": [
    "```bash\n",
    "# Put the command to move into a new directory here.\n",
    "cd cmse202-s25-turnin\n",
    "```"
   ]
  },
  {
   "cell_type": "markdown",
   "metadata": {},
   "source": [
    "&#9989; **Question 1.3 (1 point)**: Once inside the `cmse202-s25-turnin` repository, create a new folder called `hw-01`.\n",
    "\n",
    "What is the command to create the new folder ?"
   ]
  },
  {
   "cell_type": "markdown",
   "metadata": {},
   "source": [
    "```bash\n",
    "# Put the command to create the folder/directory here\n",
    "mkdir hw-01\n",
    "```"
   ]
  },
  {
   "cell_type": "markdown",
   "metadata": {},
   "source": [
    "&#9989; **Question 1.4 (1 point)**: Move this notebook into that **new directory** in your repository then check the **_status_** of the repository\n",
    "\n",
    "<font color=\"red\">**This is an important step**</font>: you'll want to make sure you **save and close** the notebook before you do this step and then re-open it once you've added it to your repository. If you don't do this, you could end up working on the wrong version of the notebook! Once you've moved the notebook correctly, re-open it and continue working on it.\n"
   ]
  },
  {
   "cell_type": "markdown",
   "metadata": {},
   "source": [
    "```bash\n",
    "# Put the command you used to check the status of your repository here.\n",
    "mv HW-01_GitPracticeDebuggingPythonPackagesAndClasses-SS25-STUDENT.ipynb hw-01/\n",
    "\n",
    "git commit -m \"Moved notebook to hw-01 folder\"\n",
    "\n",
    "git status\n",
    "```"
   ]
  },
  {
   "cell_type": "markdown",
   "metadata": {},
   "source": [
    "&#9989; **Question 1.5 (1 point)**: Copy and paste below the output of the status command."
   ]
  },
  {
   "cell_type": "markdown",
   "metadata": {},
   "source": [
    "\n",
    "``` bash\n",
    "# Paste it here\n",
    "(base) burririt@io:~/CMSE202/CMSE202-s25-turnin$ git status\n",
    "On branch main\n",
    "Your branch is up to date with 'origin/main'.\n",
    "\n",
    "nothing to commit, working tree clean\n",
    "```"
   ]
  },
  {
   "cell_type": "markdown",
   "metadata": {},
   "source": [
    "&#9989; **Question 1.6 (1 point)**: What is the name of the current branch of the repository that you are in? (*Hint*: There should only be one branch at this time. We'll learn more about branches in git later in the semester.)"
   ]
  },
  {
   "cell_type": "markdown",
   "metadata": {},
   "source": [
    "```bash\n",
    "# Put your answer here\n",
    "main\n",
    "```"
   ]
  },
  {
   "cell_type": "markdown",
   "metadata": {},
   "source": [
    "&#9989; **Question 1.7 (3 points)**:\n",
    "If you haven't already, add your name and GitHub username to the top of the notebook, then add and commit **ONLY** the notebook.\n"
   ]
  },
  {
   "cell_type": "markdown",
   "metadata": {},
   "source": [
    "``` bash\n",
    "# Put the command(s) to add and commit here \n",
    "git add hw-01/HW-01_GitPracticeDebuggingPythonPackagesAndClasses-SS25-STUDENT.ipynb\n",
    "\n",
    "git commit -m \"Added name and GitHub username to the notebook\"\n",
    "\n",
    "git push origin main\n",
    "```"
   ]
  },
  {
   "cell_type": "markdown",
   "metadata": {},
   "source": [
    "What is the commit message you used ?"
   ]
  },
  {
   "cell_type": "markdown",
   "metadata": {},
   "source": [
    "``` bash\n",
    "# Copy your commit message here\n",
    "Added name and GitHub username to the notebook\n",
    "```"
   ]
  },
  {
   "cell_type": "markdown",
   "metadata": {},
   "source": [
    "&#9989; **Question 1.8 (1 point):** Before moving on. Check that the notebook you are working on is the correct one. Run the following cell. **Are you in the new folder you just created?** If not close this notebook and open the one in the `hw-01` folder. You'll likely need to copy of over the work you did on the above questions if you were working on the wrong notebook.\n",
    "\n",
    "What command did you use to check which directory you are? What command did you use to list the files in the folder?"
   ]
  },
  {
   "cell_type": "markdown",
   "metadata": {},
   "source": [
    "``` bash\n",
    "pwd\n",
    "\n",
    "ls\n",
    "```"
   ]
  },
  {
   "cell_type": "markdown",
   "metadata": {},
   "source": [
    "&#9989; **Question 1.9 (3 points):** Assuming that your notebook is in the right place and committed to your repository, **push your changes to GitHub.**\n",
    "\n",
    "What command did you use to push your changes to GitHub?"
   ]
  },
  {
   "cell_type": "markdown",
   "metadata": {},
   "source": [
    "``` bash\n",
    "# Put the command you used to push your changes to GitHub here\n",
    "git push origin main\n",
    "```"
   ]
  },
  {
   "cell_type": "markdown",
   "metadata": {},
   "source": [
    "### Before moving on...\n",
    "\n",
    "**Important**: Make sure you've added your Professor and your TA as collaborators to your new \"turnin\" respository with \"Read\" access so that they can see your assignment. **You should check [this website](https://msu-cmse-courses.github.io/cmse202-S25-jb/index.html)  _for your section of the course_ to get this information.**\n",
    "\n",
    "**Double-check the following**: Make sure that the version of this notebook that you are working on is the same one that you just added to your repository! If you are working on a different copy of the notebook, **none of your changes will be tracked**.\n",
    "\n",
    "If everything went as intended, **the file should now show up on your GitHub account** in the \"`cmse202-s25-turnin`\" repository inside the `hw-01` directory that you just created.  Periodically, **you'll be asked to commit your changes to the repository. By the end of the assignment you should have multiple commits that correspond to your completion of each section (as specified below)**. Of course, you can always commit your changes more often than that, if you wish.  It can be good to get into a habit of committing your changes any time you make a significant modification, or when you stop working on the project for a bit.\n"
   ]
  },
  {
   "cell_type": "markdown",
   "metadata": {},
   "source": [
    "  "
   ]
  },
  {
   "cell_type": "markdown",
   "metadata": {},
   "source": [
    "<span style=\"color:maroon; font-weight:bold;\">I have added Professor Gambrell and TA Tairan Song as collaborators to my new \"turnin\" repository</span>"
   ]
  },
  {
   "cell_type": "markdown",
   "metadata": {},
   "source": [
    "---\n",
    "<a id=\"debugging\"></a>\n",
    "[Back to ToC](#toc)\n",
    "\n",
    "## Part 2: Debugging Pandas code (7 points)\n",
    "\n",
    "### Reading Python and Pandas code and understanding errors and error messages \n",
    "\n",
    "In this section, you will practice reading and debugging code, specially examples that use Pandas (since we'll be regularly using Pandas in the course and we spent some time reviewing Pandas in class). Debugging can be one of the most frustrating and time consuming part of a computational project, hence, it's worth spending time parsing and debugging error messages. \n",
    "\n",
    "Review the following code. Make sure to read the comments to understand what the code is _supposed_ to do. Then run the code and see what it outputs and/or the error message. Finally, **make a copy of the code in the provided cell and then fix the code**. When you fix the code **add a comment to explain what was wrong with the original code**.\n",
    "\n",
    "**IMPORTANT NOTE #1:** not every block of code will result in an error message, but it won't produce the desired output. Even if there is no error, there is something you need to fix within the code.\n",
    "\n",
    "**IMPORTANT NOTE #2:** In some cases, the example may use a bit of Pandas code that you're not familiar with yet, in these cases, you'll need to consult the internet (or the Pandas documentation) to figure out what the code is doing. This is a very common practice in computational modeling and data analysis."
   ]
  },
  {
   "cell_type": "markdown",
   "metadata": {},
   "source": [
    "### Import Pandas before moving on!"
   ]
  },
  {
   "cell_type": "code",
   "execution_count": 2,
   "metadata": {},
   "outputs": [],
   "source": [
    "# Import Pandas\n",
    "import pandas as pd "
   ]
  },
  {
   "cell_type": "markdown",
   "metadata": {},
   "source": [
    "&#9989; **Questions 2.1 (2 points)**: Review the following piece of Pandas code, read the comments to understand what it is supposed to do, then run the code to see what the output is. **DO NOT MODIFY THIS CODE CELL**. (so that you can remember what the bug was)"
   ]
  },
  {
   "cell_type": "code",
   "execution_count": 8,
   "metadata": {},
   "outputs": [
    {
     "data": {
      "text/html": [
       "<div>\n",
       "<style scoped>\n",
       "    .dataframe tbody tr th:only-of-type {\n",
       "        vertical-align: middle;\n",
       "    }\n",
       "\n",
       "    .dataframe tbody tr th {\n",
       "        vertical-align: top;\n",
       "    }\n",
       "\n",
       "    .dataframe thead th {\n",
       "        text-align: right;\n",
       "    }\n",
       "</style>\n",
       "<table border=\"1\" class=\"dataframe\">\n",
       "  <thead>\n",
       "    <tr style=\"text-align: right;\">\n",
       "      <th></th>\n",
       "      <th>Scores</th>\n",
       "    </tr>\n",
       "    <tr>\n",
       "      <th>Subject</th>\n",
       "      <th></th>\n",
       "    </tr>\n",
       "  </thead>\n",
       "  <tbody>\n",
       "    <tr>\n",
       "      <th>Math</th>\n",
       "      <td>84.0</td>\n",
       "    </tr>\n",
       "    <tr>\n",
       "      <th>Physics</th>\n",
       "      <td>85.0</td>\n",
       "    </tr>\n",
       "  </tbody>\n",
       "</table>\n",
       "</div>"
      ],
      "text/plain": [
       "         Scores\n",
       "Subject        \n",
       "Math       84.0\n",
       "Physics    85.0"
      ]
     },
     "execution_count": 8,
     "metadata": {},
     "output_type": "execute_result"
    }
   ],
   "source": [
    "## DO NOT CHANGE THIS CELL ##\n",
    "\n",
    "# Group df by column 'Subject' and take the mean \n",
    "\n",
    "df = pandas.DataFrame({'Subject': ['Physics', 'Math',\n",
    "                              'Math', 'Physics'],\n",
    "                   'Scores': [88, 76, 92, 82]})\n",
    "\n",
    "df.groupby('Subject').mean()"
   ]
  },
  {
   "cell_type": "markdown",
   "metadata": {},
   "source": [
    "If you need to write any code to explore the nature of the bug, please do so in the cell below."
   ]
  },
  {
   "cell_type": "code",
   "execution_count": 12,
   "metadata": {},
   "outputs": [],
   "source": [
    "# Put exploratory code here, if needed\n",
    "# The issue in the given code is that Pandas is imported as pd"
   ]
  },
  {
   "cell_type": "markdown",
   "metadata": {},
   "source": [
    "**DO THIS**: Now that you understand what the bug is, fix it in the cell below and **add a comment** explaining what the bug was and how you fixed it."
   ]
  },
  {
   "cell_type": "code",
   "execution_count": 3,
   "metadata": {},
   "outputs": [
    {
     "data": {
      "text/html": [
       "<div>\n",
       "<style scoped>\n",
       "    .dataframe tbody tr th:only-of-type {\n",
       "        vertical-align: middle;\n",
       "    }\n",
       "\n",
       "    .dataframe tbody tr th {\n",
       "        vertical-align: top;\n",
       "    }\n",
       "\n",
       "    .dataframe thead th {\n",
       "        text-align: right;\n",
       "    }\n",
       "</style>\n",
       "<table border=\"1\" class=\"dataframe\">\n",
       "  <thead>\n",
       "    <tr style=\"text-align: right;\">\n",
       "      <th></th>\n",
       "      <th>Scores</th>\n",
       "    </tr>\n",
       "    <tr>\n",
       "      <th>Subject</th>\n",
       "      <th></th>\n",
       "    </tr>\n",
       "  </thead>\n",
       "  <tbody>\n",
       "    <tr>\n",
       "      <th>Math</th>\n",
       "      <td>84.0</td>\n",
       "    </tr>\n",
       "    <tr>\n",
       "      <th>Physics</th>\n",
       "      <td>85.0</td>\n",
       "    </tr>\n",
       "  </tbody>\n",
       "</table>\n",
       "</div>"
      ],
      "text/plain": [
       "         Scores\n",
       "Subject        \n",
       "Math       84.0\n",
       "Physics    85.0"
      ]
     },
     "execution_count": 3,
     "metadata": {},
     "output_type": "execute_result"
    }
   ],
   "source": [
    "# Put your non-buggy code here\n",
    "df = pd.DataFrame({'Subject': ['Physics', 'Math',\n",
    "                              'Math', 'Physics'],\n",
    "                   'Scores': [88, 76, 92, 82]})\n",
    "\n",
    "df.groupby('Subject').mean()"
   ]
  },
  {
   "cell_type": "markdown",
   "metadata": {},
   "source": [
    "&#9989; **Questions 2.2 (2 points)**: Review the following piece of Pandas code, read the comments to understand what it is supposed to do, then run the code to see what the output is. **DO NOT MODIFY THIS CODE CELL**. (so that you can remember what the bug was)"
   ]
  },
  {
   "cell_type": "code",
   "execution_count": 4,
   "metadata": {},
   "outputs": [
    {
     "ename": "DateParseError",
     "evalue": "month must be in 1..12: 01312025",
     "output_type": "error",
     "traceback": [
      "\u001b[0;31m---------------------------------------------------------------------------\u001b[0m",
      "\u001b[0;31mValueError\u001b[0m                                Traceback (most recent call last)",
      "File \u001b[0;32mparsing.pyx:684\u001b[0m, in \u001b[0;36mpandas._libs.tslibs.parsing.dateutil_parse\u001b[0;34m()\u001b[0m\n",
      "\u001b[0;31mValueError\u001b[0m: month must be in 1..12",
      "\nThe above exception was the direct cause of the following exception:\n",
      "\u001b[0;31mDateParseError\u001b[0m                            Traceback (most recent call last)",
      "Cell \u001b[0;32mIn[4], line 7\u001b[0m\n\u001b[1;32m      1\u001b[0m \u001b[38;5;66;03m## DO NOT CHANGE THIS CELL ##\u001b[39;00m\n\u001b[1;32m      2\u001b[0m \n\u001b[1;32m      3\u001b[0m \u001b[38;5;66;03m#use this pandas function to display all the dates between when hw1 is released until\u001b[39;00m\n\u001b[1;32m      4\u001b[0m \u001b[38;5;66;03m#when the hw is due\u001b[39;00m\n\u001b[0;32m----> 7\u001b[0m dates \u001b[38;5;241m=\u001b[39m \u001b[43mpd\u001b[49m\u001b[38;5;241;43m.\u001b[39;49m\u001b[43mdate_range\u001b[49m\u001b[43m(\u001b[49m\u001b[38;5;124;43m\"\u001b[39;49m\u001b[38;5;124;43m01312025\u001b[39;49m\u001b[38;5;124;43m\"\u001b[39;49m\u001b[43m,\u001b[49m\u001b[43m \u001b[49m\u001b[43mperiods\u001b[49m\u001b[38;5;241;43m=\u001b[39;49m\u001b[38;5;241;43m22\u001b[39;49m\u001b[43m)\u001b[49m\n\u001b[1;32m      9\u001b[0m dates\n",
      "File \u001b[0;32m/opt/miniconda3/lib/python3.11/site-packages/pandas/core/indexes/datetimes.py:1008\u001b[0m, in \u001b[0;36mdate_range\u001b[0;34m(start, end, periods, freq, tz, normalize, name, inclusive, unit, **kwargs)\u001b[0m\n\u001b[1;32m   1005\u001b[0m \u001b[38;5;28;01mif\u001b[39;00m freq \u001b[38;5;129;01mis\u001b[39;00m \u001b[38;5;28;01mNone\u001b[39;00m \u001b[38;5;129;01mand\u001b[39;00m com\u001b[38;5;241m.\u001b[39many_none(periods, start, end):\n\u001b[1;32m   1006\u001b[0m     freq \u001b[38;5;241m=\u001b[39m \u001b[38;5;124m\"\u001b[39m\u001b[38;5;124mD\u001b[39m\u001b[38;5;124m\"\u001b[39m\n\u001b[0;32m-> 1008\u001b[0m dtarr \u001b[38;5;241m=\u001b[39m \u001b[43mDatetimeArray\u001b[49m\u001b[38;5;241;43m.\u001b[39;49m\u001b[43m_generate_range\u001b[49m\u001b[43m(\u001b[49m\n\u001b[1;32m   1009\u001b[0m \u001b[43m    \u001b[49m\u001b[43mstart\u001b[49m\u001b[38;5;241;43m=\u001b[39;49m\u001b[43mstart\u001b[49m\u001b[43m,\u001b[49m\n\u001b[1;32m   1010\u001b[0m \u001b[43m    \u001b[49m\u001b[43mend\u001b[49m\u001b[38;5;241;43m=\u001b[39;49m\u001b[43mend\u001b[49m\u001b[43m,\u001b[49m\n\u001b[1;32m   1011\u001b[0m \u001b[43m    \u001b[49m\u001b[43mperiods\u001b[49m\u001b[38;5;241;43m=\u001b[39;49m\u001b[43mperiods\u001b[49m\u001b[43m,\u001b[49m\n\u001b[1;32m   1012\u001b[0m \u001b[43m    \u001b[49m\u001b[43mfreq\u001b[49m\u001b[38;5;241;43m=\u001b[39;49m\u001b[43mfreq\u001b[49m\u001b[43m,\u001b[49m\n\u001b[1;32m   1013\u001b[0m \u001b[43m    \u001b[49m\u001b[43mtz\u001b[49m\u001b[38;5;241;43m=\u001b[39;49m\u001b[43mtz\u001b[49m\u001b[43m,\u001b[49m\n\u001b[1;32m   1014\u001b[0m \u001b[43m    \u001b[49m\u001b[43mnormalize\u001b[49m\u001b[38;5;241;43m=\u001b[39;49m\u001b[43mnormalize\u001b[49m\u001b[43m,\u001b[49m\n\u001b[1;32m   1015\u001b[0m \u001b[43m    \u001b[49m\u001b[43minclusive\u001b[49m\u001b[38;5;241;43m=\u001b[39;49m\u001b[43minclusive\u001b[49m\u001b[43m,\u001b[49m\n\u001b[1;32m   1016\u001b[0m \u001b[43m    \u001b[49m\u001b[43munit\u001b[49m\u001b[38;5;241;43m=\u001b[39;49m\u001b[43munit\u001b[49m\u001b[43m,\u001b[49m\n\u001b[1;32m   1017\u001b[0m \u001b[43m    \u001b[49m\u001b[38;5;241;43m*\u001b[39;49m\u001b[38;5;241;43m*\u001b[39;49m\u001b[43mkwargs\u001b[49m\u001b[43m,\u001b[49m\n\u001b[1;32m   1018\u001b[0m \u001b[43m\u001b[49m\u001b[43m)\u001b[49m\n\u001b[1;32m   1019\u001b[0m \u001b[38;5;28;01mreturn\u001b[39;00m DatetimeIndex\u001b[38;5;241m.\u001b[39m_simple_new(dtarr, name\u001b[38;5;241m=\u001b[39mname)\n",
      "File \u001b[0;32m/opt/miniconda3/lib/python3.11/site-packages/pandas/core/arrays/datetimes.py:424\u001b[0m, in \u001b[0;36mDatetimeArray._generate_range\u001b[0;34m(cls, start, end, periods, freq, tz, normalize, ambiguous, nonexistent, inclusive, unit)\u001b[0m\n\u001b[1;32m    421\u001b[0m freq \u001b[38;5;241m=\u001b[39m to_offset(freq)\n\u001b[1;32m    423\u001b[0m \u001b[38;5;28;01mif\u001b[39;00m start \u001b[38;5;129;01mis\u001b[39;00m \u001b[38;5;129;01mnot\u001b[39;00m \u001b[38;5;28;01mNone\u001b[39;00m:\n\u001b[0;32m--> 424\u001b[0m     start \u001b[38;5;241m=\u001b[39m \u001b[43mTimestamp\u001b[49m\u001b[43m(\u001b[49m\u001b[43mstart\u001b[49m\u001b[43m)\u001b[49m\n\u001b[1;32m    426\u001b[0m \u001b[38;5;28;01mif\u001b[39;00m end \u001b[38;5;129;01mis\u001b[39;00m \u001b[38;5;129;01mnot\u001b[39;00m \u001b[38;5;28;01mNone\u001b[39;00m:\n\u001b[1;32m    427\u001b[0m     end \u001b[38;5;241m=\u001b[39m Timestamp(end)\n",
      "File \u001b[0;32mtimestamps.pyx:1865\u001b[0m, in \u001b[0;36mpandas._libs.tslibs.timestamps.Timestamp.__new__\u001b[0;34m()\u001b[0m\n",
      "File \u001b[0;32mconversion.pyx:364\u001b[0m, in \u001b[0;36mpandas._libs.tslibs.conversion.convert_to_tsobject\u001b[0;34m()\u001b[0m\n",
      "File \u001b[0;32mconversion.pyx:641\u001b[0m, in \u001b[0;36mpandas._libs.tslibs.conversion.convert_str_to_tsobject\u001b[0;34m()\u001b[0m\n",
      "File \u001b[0;32mparsing.pyx:336\u001b[0m, in \u001b[0;36mpandas._libs.tslibs.parsing.parse_datetime_string\u001b[0;34m()\u001b[0m\n",
      "File \u001b[0;32mparsing.pyx:688\u001b[0m, in \u001b[0;36mpandas._libs.tslibs.parsing.dateutil_parse\u001b[0;34m()\u001b[0m\n",
      "\u001b[0;31mDateParseError\u001b[0m: month must be in 1..12: 01312025"
     ]
    }
   ],
   "source": [
    "## DO NOT CHANGE THIS CELL ##\n",
    "\n",
    "#use this pandas function to display all the dates between when hw1 is released until\n",
    "#when the hw is due\n",
    "\n",
    "\n",
    "dates = pd.date_range(\"01312025\", periods=22)\n",
    "\n",
    "dates"
   ]
  },
  {
   "cell_type": "markdown",
   "metadata": {},
   "source": [
    "If you need to write any code to explore the nature of the bug, please do so in the cell below."
   ]
  },
  {
   "cell_type": "code",
   "execution_count": 15,
   "metadata": {},
   "outputs": [],
   "source": [
    "# Put exploratory code here, if needed\n",
    "# The issue in the given code is that the pd.date_range() function is missing an end date or freq parameter to correctly generate the date range. Also, the date format \"01312025\" is ambiguous and should be explicitly defined."
   ]
  },
  {
   "cell_type": "markdown",
   "metadata": {},
   "source": [
    "**DO THIS**: Now that you understand what the bug is, fix it in the cell below and **add a comment** explaining what the bug was and how you fixed it."
   ]
  },
  {
   "cell_type": "code",
   "execution_count": 6,
   "metadata": {},
   "outputs": [
    {
     "name": "stdout",
     "output_type": "stream",
     "text": [
      "DatetimeIndex(['2025-01-31', '2025-02-01', '2025-02-02', '2025-02-03',\n",
      "               '2025-02-04', '2025-02-05', '2025-02-06', '2025-02-07',\n",
      "               '2025-02-08', '2025-02-09', '2025-02-10', '2025-02-11',\n",
      "               '2025-02-12', '2025-02-13', '2025-02-14', '2025-02-15',\n",
      "               '2025-02-16', '2025-02-17', '2025-02-18', '2025-02-19',\n",
      "               '2025-02-20', '2025-02-21'],\n",
      "              dtype='datetime64[ns]', freq='D')\n"
     ]
    }
   ],
   "source": [
    "# Put your non-buggy code here\n",
    "import pandas as pd  \n",
    "\n",
    "# Define the correct start and end dates\n",
    "start_date = \"2025-01-31\"  # Using YYYY-MM-DD format\n",
    "\n",
    "# Generate date range\n",
    "dates = pd.date_range(start=start_date, periods=22)\n",
    "\n",
    "# Display dates\n",
    "print(dates)"
   ]
  },
  {
   "cell_type": "markdown",
   "metadata": {},
   "source": [
    "&#9989; **Questions 2.3 (2 points)**: Review the following piece of Pandas code, read the comments to understand what it is supposed to do, then run the code to see what the output is. **DO NOT MODIFY THIS CODE CELL**. (so that you can remember what the bug was)\n",
    "\n",
    "**Note** Assume the original dataframe 'df' cannot be changed. ie don't modify the values in 'df' manually by erasing and re-typing, but by using functions and data cleaning methods to modify the data.\n",
    "\n",
    "**Note**: The resulting dataframe should look like this: \n",
    "\n",
    "|    |   A |   B | \n",
    "|---:|----:|----:|\n",
    "|  0 |   3 |   3 |\n",
    "|  1 |   8 |   4 |\n"
   ]
  },
  {
   "cell_type": "code",
   "execution_count": 10,
   "metadata": {},
   "outputs": [
    {
     "data": {
      "text/html": [
       "<div>\n",
       "<style scoped>\n",
       "    .dataframe tbody tr th:only-of-type {\n",
       "        vertical-align: middle;\n",
       "    }\n",
       "\n",
       "    .dataframe tbody tr th {\n",
       "        vertical-align: top;\n",
       "    }\n",
       "\n",
       "    .dataframe thead th {\n",
       "        text-align: right;\n",
       "    }\n",
       "</style>\n",
       "<table border=\"1\" class=\"dataframe\">\n",
       "  <thead>\n",
       "    <tr style=\"text-align: right;\">\n",
       "      <th></th>\n",
       "      <th>A</th>\n",
       "      <th>B</th>\n",
       "    </tr>\n",
       "  </thead>\n",
       "  <tbody>\n",
       "    <tr>\n",
       "      <th>0</th>\n",
       "      <td>111</td>\n",
       "      <td>3</td>\n",
       "    </tr>\n",
       "    <tr>\n",
       "      <th>1</th>\n",
       "      <td>2222</td>\n",
       "      <td>4</td>\n",
       "    </tr>\n",
       "  </tbody>\n",
       "</table>\n",
       "</div>"
      ],
      "text/plain": [
       "      A  B\n",
       "0   111  3\n",
       "1  2222  4"
      ]
     },
     "execution_count": 10,
     "metadata": {},
     "output_type": "execute_result"
    }
   ],
   "source": [
    "## DO NOT CHANGE THIS CELL ##\n",
    "\n",
    "# Take a DataFrame with two columns of numbers\n",
    "# multiply the two columns by each other\n",
    "# Replace the old column 'A' with the new numbers\n",
    "# Display the DataFrame\n",
    "df = pd.DataFrame({'A': ['1', '2'], 'B': [3, 4]})\n",
    "df['A'] = df['A']*df['B']\n",
    "df\n"
   ]
  },
  {
   "cell_type": "markdown",
   "metadata": {},
   "source": [
    "If you need to write any code to explore the nature of the bug, please do so in the cell below."
   ]
  },
  {
   "cell_type": "code",
   "execution_count": 23,
   "metadata": {},
   "outputs": [],
   "source": [
    "# Put exploratory code here, if needed\n",
    "# Column 'A' contains strings instead of integers\n",
    "# Multiplication with strings leads to repetition instead of numerical multiplication"
   ]
  },
  {
   "cell_type": "markdown",
   "metadata": {},
   "source": [
    "**DO THIS**: Now that you understand what the bug is, fix it in the cell below and **add a comment** explaining what the bug was and how you fixed it."
   ]
  },
  {
   "cell_type": "code",
   "execution_count": 9,
   "metadata": {},
   "outputs": [
    {
     "name": "stdout",
     "output_type": "stream",
     "text": [
      "   A  B\n",
      "0  3  3\n",
      "1  8  4\n"
     ]
    }
   ],
   "source": [
    "# Put your non-buggy code here\n",
    "import pandas as pd\n",
    "\n",
    "# Create DataFrame with numerical values instead of strings\n",
    "df = pd.DataFrame({'A': ['1', '2'], 'B': [3, 4]})\n",
    "\n",
    "# Convert column 'A' to integers before performing multiplication\n",
    "df['A'] = df['A'].astype(int) * df['B']\n",
    "\n",
    "# Display the fixed DataFrame\n",
    "print(df)"
   ]
  },
  {
   "cell_type": "markdown",
   "metadata": {},
   "source": [
    "---\n",
    "## &#128721; STOP\n",
    "**Pause to add and commit your changes to your Git repository! (1 point)**\n",
    "\n",
    "Take a moment to save your notebook, commit the changes to your Git repository using the commit message **\"Committing Part 2\"**, no need to push the changes to GitHub, but you can if you want.\n",
    "\n"
   ]
  },
  {
   "cell_type": "markdown",
   "metadata": {},
   "source": [
    "---\n",
    "<a id=\"unfamiliar\"></a>\n",
    "[Back to ToC](#toc)\n",
    "\n",
    "## Part 3: Downloading and analyzing unfamiliar data (8 points)\n",
    "\n",
    "For this part of the homework assignment, you're to download and analyze a dataset potentially unknown to you. Go to this website and dowload the associated dataset (perhaps try download data as zip). [https://www.kaggle.com/datasets/jaidalmotra/pokemon-dataset/data]. You'll perform some simple, exploratory analysis.\n",
    "\n",
    "Make sure this file and your hw file are in the same folder location!"
   ]
  },
  {
   "cell_type": "markdown",
   "metadata": {},
   "source": [
    "&#9989; **Question 3.1 (2 points)**: **Do this now:** read in this file using pandas and display the first 16 rows. You should see the Pokemon names and numbers along with types and other stats."
   ]
  },
  {
   "cell_type": "code",
   "execution_count": 29,
   "metadata": {},
   "outputs": [
    {
     "data": {
      "text/html": [
       "<div>\n",
       "<style scoped>\n",
       "    .dataframe tbody tr th:only-of-type {\n",
       "        vertical-align: middle;\n",
       "    }\n",
       "\n",
       "    .dataframe tbody tr th {\n",
       "        vertical-align: top;\n",
       "    }\n",
       "\n",
       "    .dataframe thead th {\n",
       "        text-align: right;\n",
       "    }\n",
       "</style>\n",
       "<table border=\"1\" class=\"dataframe\">\n",
       "  <thead>\n",
       "    <tr style=\"text-align: right;\">\n",
       "      <th></th>\n",
       "      <th>number</th>\n",
       "      <th>name</th>\n",
       "      <th>type1</th>\n",
       "      <th>type2</th>\n",
       "      <th>total</th>\n",
       "      <th>hp</th>\n",
       "      <th>attack</th>\n",
       "      <th>defense</th>\n",
       "      <th>sp_attack</th>\n",
       "      <th>sp_defense</th>\n",
       "      <th>speed</th>\n",
       "      <th>generation</th>\n",
       "      <th>legendary</th>\n",
       "    </tr>\n",
       "  </thead>\n",
       "  <tbody>\n",
       "    <tr>\n",
       "      <th>0</th>\n",
       "      <td>1</td>\n",
       "      <td>Bulbasaur</td>\n",
       "      <td>Grass</td>\n",
       "      <td>Poison</td>\n",
       "      <td>318</td>\n",
       "      <td>45</td>\n",
       "      <td>49</td>\n",
       "      <td>49</td>\n",
       "      <td>65</td>\n",
       "      <td>65</td>\n",
       "      <td>45</td>\n",
       "      <td>1</td>\n",
       "      <td>False</td>\n",
       "    </tr>\n",
       "    <tr>\n",
       "      <th>1</th>\n",
       "      <td>2</td>\n",
       "      <td>Ivysaur</td>\n",
       "      <td>Grass</td>\n",
       "      <td>Poison</td>\n",
       "      <td>405</td>\n",
       "      <td>60</td>\n",
       "      <td>62</td>\n",
       "      <td>63</td>\n",
       "      <td>80</td>\n",
       "      <td>80</td>\n",
       "      <td>60</td>\n",
       "      <td>1</td>\n",
       "      <td>False</td>\n",
       "    </tr>\n",
       "    <tr>\n",
       "      <th>2</th>\n",
       "      <td>3</td>\n",
       "      <td>Venusaur</td>\n",
       "      <td>Grass</td>\n",
       "      <td>Poison</td>\n",
       "      <td>525</td>\n",
       "      <td>80</td>\n",
       "      <td>82</td>\n",
       "      <td>83</td>\n",
       "      <td>100</td>\n",
       "      <td>100</td>\n",
       "      <td>80</td>\n",
       "      <td>1</td>\n",
       "      <td>False</td>\n",
       "    </tr>\n",
       "    <tr>\n",
       "      <th>3</th>\n",
       "      <td>3</td>\n",
       "      <td>Mega Venusaur</td>\n",
       "      <td>Grass</td>\n",
       "      <td>Poison</td>\n",
       "      <td>625</td>\n",
       "      <td>80</td>\n",
       "      <td>100</td>\n",
       "      <td>123</td>\n",
       "      <td>122</td>\n",
       "      <td>120</td>\n",
       "      <td>80</td>\n",
       "      <td>1</td>\n",
       "      <td>False</td>\n",
       "    </tr>\n",
       "    <tr>\n",
       "      <th>4</th>\n",
       "      <td>3</td>\n",
       "      <td>Gigantamax Venusaur</td>\n",
       "      <td>Grass</td>\n",
       "      <td>Poison</td>\n",
       "      <td>525</td>\n",
       "      <td>80</td>\n",
       "      <td>82</td>\n",
       "      <td>83</td>\n",
       "      <td>100</td>\n",
       "      <td>100</td>\n",
       "      <td>80</td>\n",
       "      <td>1</td>\n",
       "      <td>False</td>\n",
       "    </tr>\n",
       "    <tr>\n",
       "      <th>5</th>\n",
       "      <td>4</td>\n",
       "      <td>Charmander</td>\n",
       "      <td>Fire</td>\n",
       "      <td>NaN</td>\n",
       "      <td>309</td>\n",
       "      <td>39</td>\n",
       "      <td>52</td>\n",
       "      <td>43</td>\n",
       "      <td>60</td>\n",
       "      <td>50</td>\n",
       "      <td>65</td>\n",
       "      <td>1</td>\n",
       "      <td>False</td>\n",
       "    </tr>\n",
       "    <tr>\n",
       "      <th>6</th>\n",
       "      <td>5</td>\n",
       "      <td>Charmeleon</td>\n",
       "      <td>Fire</td>\n",
       "      <td>NaN</td>\n",
       "      <td>405</td>\n",
       "      <td>58</td>\n",
       "      <td>64</td>\n",
       "      <td>58</td>\n",
       "      <td>80</td>\n",
       "      <td>65</td>\n",
       "      <td>80</td>\n",
       "      <td>1</td>\n",
       "      <td>False</td>\n",
       "    </tr>\n",
       "    <tr>\n",
       "      <th>7</th>\n",
       "      <td>6</td>\n",
       "      <td>Charizard</td>\n",
       "      <td>Fire</td>\n",
       "      <td>Flying</td>\n",
       "      <td>534</td>\n",
       "      <td>78</td>\n",
       "      <td>84</td>\n",
       "      <td>78</td>\n",
       "      <td>109</td>\n",
       "      <td>85</td>\n",
       "      <td>100</td>\n",
       "      <td>1</td>\n",
       "      <td>False</td>\n",
       "    </tr>\n",
       "    <tr>\n",
       "      <th>8</th>\n",
       "      <td>6</td>\n",
       "      <td>Mega Charizard X</td>\n",
       "      <td>Fire</td>\n",
       "      <td>Dragon</td>\n",
       "      <td>634</td>\n",
       "      <td>78</td>\n",
       "      <td>130</td>\n",
       "      <td>111</td>\n",
       "      <td>130</td>\n",
       "      <td>85</td>\n",
       "      <td>100</td>\n",
       "      <td>1</td>\n",
       "      <td>False</td>\n",
       "    </tr>\n",
       "    <tr>\n",
       "      <th>9</th>\n",
       "      <td>6</td>\n",
       "      <td>Mega Charizard Y</td>\n",
       "      <td>Fire</td>\n",
       "      <td>Flying</td>\n",
       "      <td>634</td>\n",
       "      <td>78</td>\n",
       "      <td>104</td>\n",
       "      <td>78</td>\n",
       "      <td>159</td>\n",
       "      <td>115</td>\n",
       "      <td>100</td>\n",
       "      <td>1</td>\n",
       "      <td>False</td>\n",
       "    </tr>\n",
       "    <tr>\n",
       "      <th>10</th>\n",
       "      <td>6</td>\n",
       "      <td>Gigantamax Charizard</td>\n",
       "      <td>Fire</td>\n",
       "      <td>Flying</td>\n",
       "      <td>534</td>\n",
       "      <td>78</td>\n",
       "      <td>84</td>\n",
       "      <td>78</td>\n",
       "      <td>109</td>\n",
       "      <td>85</td>\n",
       "      <td>100</td>\n",
       "      <td>1</td>\n",
       "      <td>False</td>\n",
       "    </tr>\n",
       "    <tr>\n",
       "      <th>11</th>\n",
       "      <td>7</td>\n",
       "      <td>Squirtle</td>\n",
       "      <td>Water</td>\n",
       "      <td>NaN</td>\n",
       "      <td>314</td>\n",
       "      <td>44</td>\n",
       "      <td>48</td>\n",
       "      <td>65</td>\n",
       "      <td>50</td>\n",
       "      <td>64</td>\n",
       "      <td>43</td>\n",
       "      <td>1</td>\n",
       "      <td>False</td>\n",
       "    </tr>\n",
       "    <tr>\n",
       "      <th>12</th>\n",
       "      <td>8</td>\n",
       "      <td>Wartortle</td>\n",
       "      <td>Water</td>\n",
       "      <td>NaN</td>\n",
       "      <td>405</td>\n",
       "      <td>59</td>\n",
       "      <td>63</td>\n",
       "      <td>80</td>\n",
       "      <td>65</td>\n",
       "      <td>80</td>\n",
       "      <td>58</td>\n",
       "      <td>1</td>\n",
       "      <td>False</td>\n",
       "    </tr>\n",
       "    <tr>\n",
       "      <th>13</th>\n",
       "      <td>9</td>\n",
       "      <td>Blastoise</td>\n",
       "      <td>Water</td>\n",
       "      <td>NaN</td>\n",
       "      <td>530</td>\n",
       "      <td>79</td>\n",
       "      <td>83</td>\n",
       "      <td>100</td>\n",
       "      <td>85</td>\n",
       "      <td>105</td>\n",
       "      <td>78</td>\n",
       "      <td>1</td>\n",
       "      <td>False</td>\n",
       "    </tr>\n",
       "    <tr>\n",
       "      <th>14</th>\n",
       "      <td>9</td>\n",
       "      <td>Mega Blastoise</td>\n",
       "      <td>Water</td>\n",
       "      <td>NaN</td>\n",
       "      <td>630</td>\n",
       "      <td>79</td>\n",
       "      <td>103</td>\n",
       "      <td>120</td>\n",
       "      <td>135</td>\n",
       "      <td>115</td>\n",
       "      <td>78</td>\n",
       "      <td>1</td>\n",
       "      <td>False</td>\n",
       "    </tr>\n",
       "    <tr>\n",
       "      <th>15</th>\n",
       "      <td>9</td>\n",
       "      <td>Gigantamax Blasoise</td>\n",
       "      <td>Blastoise</td>\n",
       "      <td>Water</td>\n",
       "      <td>530</td>\n",
       "      <td>79</td>\n",
       "      <td>83</td>\n",
       "      <td>100</td>\n",
       "      <td>85</td>\n",
       "      <td>105</td>\n",
       "      <td>78</td>\n",
       "      <td>1</td>\n",
       "      <td>False</td>\n",
       "    </tr>\n",
       "  </tbody>\n",
       "</table>\n",
       "</div>"
      ],
      "text/plain": [
       "    number                  name      type1   type2  total  hp  attack  \\\n",
       "0        1             Bulbasaur      Grass  Poison    318  45      49   \n",
       "1        2               Ivysaur      Grass  Poison    405  60      62   \n",
       "2        3              Venusaur      Grass  Poison    525  80      82   \n",
       "3        3         Mega Venusaur      Grass  Poison    625  80     100   \n",
       "4        3   Gigantamax Venusaur      Grass  Poison    525  80      82   \n",
       "5        4            Charmander       Fire     NaN    309  39      52   \n",
       "6        5            Charmeleon       Fire     NaN    405  58      64   \n",
       "7        6             Charizard       Fire  Flying    534  78      84   \n",
       "8        6      Mega Charizard X       Fire  Dragon    634  78     130   \n",
       "9        6      Mega Charizard Y       Fire  Flying    634  78     104   \n",
       "10       6  Gigantamax Charizard       Fire  Flying    534  78      84   \n",
       "11       7              Squirtle      Water     NaN    314  44      48   \n",
       "12       8             Wartortle      Water     NaN    405  59      63   \n",
       "13       9             Blastoise      Water     NaN    530  79      83   \n",
       "14       9        Mega Blastoise      Water     NaN    630  79     103   \n",
       "15       9   Gigantamax Blasoise  Blastoise   Water    530  79      83   \n",
       "\n",
       "    defense  sp_attack  sp_defense  speed  generation  legendary  \n",
       "0        49         65          65     45           1      False  \n",
       "1        63         80          80     60           1      False  \n",
       "2        83        100         100     80           1      False  \n",
       "3       123        122         120     80           1      False  \n",
       "4        83        100         100     80           1      False  \n",
       "5        43         60          50     65           1      False  \n",
       "6        58         80          65     80           1      False  \n",
       "7        78        109          85    100           1      False  \n",
       "8       111        130          85    100           1      False  \n",
       "9        78        159         115    100           1      False  \n",
       "10       78        109          85    100           1      False  \n",
       "11       65         50          64     43           1      False  \n",
       "12       80         65          80     58           1      False  \n",
       "13      100         85         105     78           1      False  \n",
       "14      120        135         115     78           1      False  \n",
       "15      100         85         105     78           1      False  "
      ]
     },
     "execution_count": 29,
     "metadata": {},
     "output_type": "execute_result"
    }
   ],
   "source": [
    "#put your code here\n",
    "df = pd.read_csv(\"Pokemon.csv\")\n",
    "\n",
    "# Display the first 16 rows\n",
    "df.head(16)"
   ]
  },
  {
   "cell_type": "markdown",
   "metadata": {},
   "source": [
    "&#9989; **Question 3.2 (2 points)**: Now let's do some cleaning. Create a new dataframe with only the water type pokemon. Do this by creating a mask to filter the original dataset with the type1 column. How many pokemon have the water typing (using this masking method)? "
   ]
  },
  {
   "cell_type": "code",
   "execution_count": 31,
   "metadata": {},
   "outputs": [
    {
     "name": "stdout",
     "output_type": "stream",
     "text": [
      "    number            name  type1 type2  total  hp  attack  defense  \\\n",
      "11       7        Squirtle  Water   NaN    314  44      48       65   \n",
      "12       8       Wartortle  Water   NaN    405  59      63       80   \n",
      "13       9       Blastoise  Water   NaN    530  79      83      100   \n",
      "14       9  Mega Blastoise  Water   NaN    630  79     103      120   \n",
      "77      54         Psyduck  Water   NaN    320  50      52       48   \n",
      "\n",
      "    sp_attack  sp_defense  speed  generation  legendary  \n",
      "11         50          64     43           1      False  \n",
      "12         65          80     58           1      False  \n",
      "13         85         105     78           1      False  \n",
      "14        135         115     78           1      False  \n",
      "77         65          50     55           1      False  \n",
      "Number of Water-type Pokémon: 136\n"
     ]
    }
   ],
   "source": [
    "### Put your code here\n",
    "water_type = df[\"type1\"] == \"Water\"\n",
    "\n",
    "water_pokemon = df[water_type]\n",
    "\n",
    "print(water_pokemon.head())\n",
    "\n",
    "num_water_pokemon = water_pokemon.shape[0]\n",
    "print(f\"Number of Water-type Pokémon: {num_water_pokemon}\")"
   ]
  },
  {
   "cell_type": "markdown",
   "metadata": {},
   "source": [
    "&#9989; **Question 3.3 (3 points)**: **Construct a new data frame** from your water type dataframe using a mask by only retaining the water pokemon with an attack stat of 100 or higher and name this dataframe \"df_water_attackers\". Do the same thing with a different column of stats (hp, defense, sp_attack, sp_defense, or speed) and give this dataframe an appropriate name as well. Which of these two dataframes has more pokemon and how did you answer this question? (show your work/code)"
   ]
  },
  {
   "cell_type": "code",
   "execution_count": 33,
   "metadata": {},
   "outputs": [
    {
     "name": "stdout",
     "output_type": "stream",
     "text": [
      "Number of Water Pokémon with Attack ≥ 100: 27\n",
      "Number of Water Pokémon with Speed ≥ 100: 14\n",
      "df_water_attackers has more Pokémon.\n"
     ]
    }
   ],
   "source": [
    "### Put your code here\n",
    "# Create df_water_attackers: Water Pokémon with Attack >= 100\n",
    "df_water_attackers = water_pokemon[water_pokemon[\"attack\"] >= 100]\n",
    "\n",
    "# Create df_water_speedsters: Water Pokémon with Speed >= 100\n",
    "df_water_speedsters = water_pokemon[water_pokemon[\"speed\"] >= 100]\n",
    "\n",
    "# Count the number of Pokémon in each DataFrame\n",
    "num_attackers = df_water_attackers.shape[0]\n",
    "num_speedsters = df_water_speedsters.shape[0]\n",
    "\n",
    "# Print results\n",
    "print(f\"Number of Water Pokémon with Attack ≥ 100: {num_attackers}\")\n",
    "print(f\"Number of Water Pokémon with Speed ≥ 100: {num_speedsters}\")\n",
    "\n",
    "# Determine which DataFrame has more Pokémon\n",
    "if num_attackers > num_speedsters:\n",
    "    print(\"df_water_attackers has more Pokémon.\")\n",
    "elif num_speedsters > num_attackers:\n",
    "    print(\"df_water_speedsters has more Pokémon.\")\n",
    "else:\n",
    "    print(\"Both DataFrames have the same number of Pokémon.\")"
   ]
  },
  {
   "cell_type": "markdown",
   "metadata": {},
   "source": [
    "---\n",
    "## &#128721; STOP\n",
    "**Pause to commit your changes to your Git repository! (1 point)**\n",
    "\n",
    "Take a moment to save your notebook, commit the changes to your Git repository using the commit message \"**Committing Part 3**\", no need to push the changes to GitHub yet, but you can if you want."
   ]
  },
  {
   "cell_type": "markdown",
   "metadata": {},
   "source": [
    "---\n",
    "<a id=\"folium\"></a>\n",
    "[Back to ToC](#toc)\n",
    "\n",
    "## Part 4: Finding and Using a Python Package from Github (11 points)\n",
    "\n",
    "In this part of the assignment you will need to go through a Github page with a new package."
   ]
  },
  {
   "cell_type": "markdown",
   "metadata": {},
   "source": [
    "We will use a new Python package `pyjokes`. As you work on this part of the assignment, you should take advantage of the [pyjokes Github page](https://github.com/pyjokes/pyjokes) which contains some really useful information"
   ]
  },
  {
   "cell_type": "markdown",
   "metadata": {},
   "source": [
    "&#9989; **Question 4.1 (1 point)**: If you don't already have the `pyjokes` package installed, what command could you use to install it? (you should run this command on the command line, if you need to).\n",
    "\n",
    "If you do already have it installed, what command did you use to install it?"
   ]
  },
  {
   "cell_type": "markdown",
   "metadata": {},
   "source": [
    "```bash\n",
    "# Put the command for installing pyjokes here!\n",
    "```"
   ]
  },
  {
   "cell_type": "markdown",
   "metadata": {},
   "source": [
    "&#9989; **Question 4.2 (2 points)**:  **Use pyjokes to output a joke in this notebook.**"
   ]
  },
  {
   "cell_type": "code",
   "execution_count": 3,
   "metadata": {},
   "outputs": [
    {
     "data": {
      "text/plain": [
       "\"What is Benoit B. Mandelbrot's middle name? Benoit B. Mandelbrot.\""
      ]
     },
     "execution_count": 3,
     "metadata": {},
     "output_type": "execute_result"
    }
   ],
   "source": [
    "### Put your code here\n",
    "import pyjokes\n",
    "\n",
    "# Get a joke from pyjokes\n",
    "joke = pyjokes.get_joke()\n",
    "\n",
    "# Output the joke\n",
    "joke"
   ]
  },
  {
   "cell_type": "markdown",
   "metadata": {},
   "source": [
    "&#9989; **Question 4.3 (2 points)**: display three jokes from pyjokes with one in Spanish, one in Russian, and one in a language of your choice other than English, Spanish, or Russian. "
   ]
  },
  {
   "cell_type": "code",
   "execution_count": 2,
   "metadata": {},
   "outputs": [
    {
     "data": {
      "text/plain": [
       "('Optimista: El vaso está medio lleno. Pesimista: El vaso está medio vacio. Programador: El vaso es el doble de grande de lo necesario.',\n",
       " 'Существует два вида языков программирования: одни – все ругают, другими не пользуются.',\n",
       " \"Auf dem Standesamt:'Sagen Sie, Herr Zufall, sind Sie sicher, dass Sie Ihren Sohn 'Rainer' nennen wollen?'\")"
      ]
     },
     "execution_count": 2,
     "metadata": {},
     "output_type": "execute_result"
    }
   ],
   "source": [
    "### Put your code here\n",
    "joke_spanish = pyjokes.get_joke(language=\"es\")\n",
    "joke_russian = pyjokes.get_joke(language=\"ru\")\n",
    "joke_german = pyjokes.get_joke(language=\"de\")\n",
    "\n",
    "# Display the jokes\n",
    "joke_spanish, joke_russian, joke_german"
   ]
  },
  {
   "cell_type": "markdown",
   "metadata": {},
   "source": [
    "&#9989; **Question 4.4 (1 point)**: What are the names of the two/three different joke categories?"
   ]
  },
  {
   "cell_type": "markdown",
   "metadata": {},
   "source": [
    "### Put your answer here\n"
   ]
  },
  {
   "cell_type": "markdown",
   "metadata": {},
   "source": [
    "The pyjokes library has two main joke categories: neutral and chuck. The neutral category includes general programming jokes, while the chuck category features exaggerated, Chuck Norris-style jokes."
   ]
  },
  {
   "cell_type": "markdown",
   "metadata": {},
   "source": [
    "&#9989; **Question 4.5 (4 points)**:  **Where are the jokes coming from? Find the file that has the joke data in english and add this file to your hw_1 folder. How did you accomplish this task? Please describe in detail what steps you took to find the file and add it to your hw_1 folder.** "
   ]
  },
  {
   "cell_type": "markdown",
   "metadata": {},
   "source": [
    "\"I found the English jokes file by using pip show pyjokes to locate its installation path. Inside the pyjokes/data folder, I identified the file containing English jokes (en.json). I then copied it to my hw_1 folder using the command line: cd /home/burririt/.local/lib/python3.11/site-packages/pyjokes/data/\n",
    "ls"
   ]
  },
  {
   "cell_type": "markdown",
   "metadata": {},
   "source": [
    "---\n",
    "## &#128721; STOP\n",
    "**Pause to commit your changes to your Git repository! (1 point)**\n",
    "\n",
    "Take a moment to save your notebook, commit the changes to your Git repository using the commit message \"**Committing Part 4**\", no need to push the changes to GitHub yet, but you can if you want."
   ]
  },
  {
   "cell_type": "markdown",
   "metadata": {},
   "source": [
    "---\n",
    "<a id=\"classes\"></a>\n",
    "[Back to ToC](#toc)\n",
    "\n",
    "## Part 5: Practice with using Python classes (16 points)\n",
    "\n",
    "For this part of the assignment, you're going to work on fleshing out a partially constructed Python class and then experiment with using it to see if it works as intended. \n",
    "\n",
    "### The background\n",
    "\n",
    "Curve fitting is a commonly used method to develop a math function that represents the behavior of a mdataset. It aims to find the best-fit curve that minimizes the sum of squared differences between the predicted and actual values.\n",
    "\n",
    "In this part, we start with reviewing a sequential (procedurial) code and then appreciate the essentials of OOP code. Below is sequential code using [scipy optimization libray](https://docs.scipy.org/doc/scipy/reference/generated/scipy.optimize.curve_fit.html#scipy.optimize.curve_fit) to curve-fit a set of data points to a function:\n",
    "\n",
    "$f(x) = a\\times\\exp(-bx)+c$,\n",
    "\n",
    "where the coefficients $a$, $b$, and $c$ are to be determined.\n",
    "\n",
    "First, let's download the dataset using `curl` command from the URL: `https://raw.githubusercontent.com/huichiayu/cmse202-s25-supllemental_data/refs/heads/main/HW01/xy_dataset.csv`.\n",
    "\n",
    "**(1 point)**"
   ]
  },
  {
   "cell_type": "code",
   "execution_count": 36,
   "metadata": {},
   "outputs": [
    {
     "name": "stdout",
     "output_type": "stream",
     "text": [
      "  % Total    % Received % Xferd  Average Speed   Time    Time     Time  Current\n",
      "                                 Dload  Upload   Total   Spent    Left  Speed\n",
      "100  3782  100  3782    0     0  50849      0 --:--:-- --:--:-- --:--:-- 51108\n"
     ]
    }
   ],
   "source": [
    "# write your code in this cell\n",
    "!curl -o xy_dataset.csv https://raw.githubusercontent.com/huichiayu/cmse202-s25-supllemental_data/refs/heads/main/HW01/xy_dataset.csv"
   ]
  },
  {
   "cell_type": "markdown",
   "metadata": {},
   "source": [
    "Run the cell below to load necesary libraries."
   ]
  },
  {
   "cell_type": "code",
   "execution_count": 37,
   "metadata": {},
   "outputs": [],
   "source": [
    "import numpy as np\n",
    "import pandas as pd\n",
    "import matplotlib.pyplot as plt\n",
    "from scipy.optimize import curve_fit"
   ]
  },
  {
   "cell_type": "markdown",
   "metadata": {},
   "source": [
    "Use Pandas to read the data. You should have two numpy array: one for xdata and the other for ydata. Plot this dataset in scatter plot. **(1 point)**"
   ]
  },
  {
   "cell_type": "code",
   "execution_count": 41,
   "metadata": {},
   "outputs": [
    {
     "data": {
      "image/png": "[encoded data removed]",
      "text/plain": [
       "<Figure size 800x500 with 1 Axes>"
      ]
     },
     "metadata": {},
     "output_type": "display_data"
    },
    {
     "name": "stdout",
     "output_type": "stream",
     "text": [
      "[0.59074    1.29078941 2.70970225 3.09936826 3.36929625 1.08543432\n",
      " 2.66488495 1.06758979 2.40886522 2.68612632 1.72849372 2.34145618\n",
      " 3.47835231 3.48629337 1.39289111 1.27555364 1.5425949  2.33349092\n",
      " 2.30348533 3.58912062 0.2644056  1.29118717 1.89806554 3.37263724\n",
      " 0.29718386 0.0069507  0.14732486 0.12767252 1.16714157 1.27672338\n",
      " 1.73780256 2.61952794 2.50025738 2.17015779 3.65959233 3.77308889\n",
      " 1.93334161 1.72697814 1.89650553 2.04498898 2.4894534  3.91566373\n",
      " 1.05070978 1.93701763 1.62474187 2.52137171 2.16170421 3.3323324\n",
      " 3.28110505 3.31386713 0.22017988 0.45970146 0.13532296 1.67641131\n",
      " 3.48719231 3.96690034 0.30684327 0.77939052 1.05718798 1.25704236\n",
      " 1.31768914 0.32660353 0.26596015 1.07582277 2.38584962 2.65416889\n",
      " 0.43993183 0.22689902 1.52764276 2.74227676 2.6577763  3.44842785\n",
      " 3.01319899 2.69506787 2.70519322 3.09747325 2.71348296 2.99873274\n",
      " 3.11481538 3.2068825  3.85405012 0.76940149 0.48990896 2.97040881\n",
      " 3.008961   0.67895739 2.2080667  2.91351255 2.72208724 2.63608822\n",
      " 0.41422063 0.70534958 1.31112436 2.80650581 2.26614692 3.35594214\n",
      " 0.32382235 0.17330889 1.22929176 3.29500862]\n",
      "[ 1.3250813   0.02035405  0.85788482  0.35365175  1.55153394  0.91023745\n",
      "  0.91203985  1.38416268  0.77982856 -0.12382047  0.97416932  1.26440131\n",
      "  0.20481553  1.73091187  1.38262801  1.48130406  0.88923008  0.46364328\n",
      " -0.07962101  0.36851366  3.02517302  1.05098941  0.65108838  0.61974042\n",
      "  3.09159235  3.85014644  2.34427914  2.77891717  1.34459261  0.95258658\n",
      "  0.60482993  0.90454502  0.910252    0.57349087  1.29083372  0.73945999\n",
      "  1.41858021  0.94799035  0.43436977  0.92971582  0.33610869  0.49207757\n",
      "  0.89730179  0.71950186  0.43247395  0.84437759  0.7441257   0.79792467\n",
      "  0.05544524  0.68612865  2.62910371  1.94345976  3.32513131  1.13789103\n",
      "  1.10709655  0.04609305  2.09016011  1.25503755  0.89207364  0.86828078\n",
      "  1.27757148  2.97977224  2.22047139  1.11968889  0.62188396  0.81259191\n",
      "  2.19545288  3.12290844  0.97363183  0.04358411  0.55474948  0.45171793\n",
      "  0.61825438  0.75927743  0.288518    0.76128849  0.77841362  1.3200075\n",
      "  1.5779349   1.01762686  0.6875436   1.62990962  1.82752492  0.54155007\n",
      "  0.86982481  2.2904709   1.05066098  0.88448842  0.62210658  0.5927779\n",
      "  1.87365236  0.80047389  1.54942718  0.84560442  0.46463114  0.55386699\n",
      "  2.50347491  3.24235471  1.43034237  0.11385727]\n"
     ]
    }
   ],
   "source": [
    "# write your code in this cell\n",
    "df = pd.read_csv(\"xy_dataset.csv\")\n",
    "\n",
    "xdata = df.iloc[:, 0].values\n",
    "ydata = df.iloc[:, 1].values\n",
    "\n",
    "plt.figure(figsize=(8, 5))\n",
    "plt.scatter(xdata, ydata, color='blue', label='Data Points', alpha=0.7)\n",
    "plt.xlabel(\"X Data\")\n",
    "plt.ylabel(\"Y Data\")\n",
    "plt.title(\"Scatter Plot of Dataset\")\n",
    "plt.legend()\n",
    "plt.grid(True)\n",
    "plt.show()\n",
    "\n",
    "print(xdata)\n",
    "print(ydata)"
   ]
  },
  {
   "cell_type": "markdown",
   "metadata": {},
   "source": [
    "---\n",
    "Below is the sequential code. **Review and run it. Make sure you understand what this code is doing.**"
   ]
  },
  {
   "cell_type": "code",
   "execution_count": 42,
   "metadata": {},
   "outputs": [
    {
     "name": "stdout",
     "output_type": "stream",
     "text": [
      "[3.08614405 1.77933662 0.68386529]\n"
     ]
    },
    {
     "data": {
      "text/plain": [
       "[<matplotlib.lines.Line2D at 0x7fa16773eb50>]"
      ]
     },
     "execution_count": 42,
     "metadata": {},
     "output_type": "execute_result"
    },
    {
     "data": {
      "image/png": "[encoded data removed]",
      "text/plain": [
       "<Figure size 640x480 with 1 Axes>"
      ]
     },
     "metadata": {},
     "output_type": "display_data"
    }
   ],
   "source": [
    "# procedurial code\n",
    "# plot data points\n",
    "plt.plot(xdata, ydata, 'bo', label='data')\n",
    "\n",
    "\n",
    "## define the function to be fitted. Here we use an exponential function. \n",
    "def func(x, a, b, c):\n",
    "    return a * np.exp(-b * x) + c\n",
    "\n",
    "\n",
    "## use curve fitting function in the Scipy library\n",
    "popt, pcov = curve_fit(func, xdata, ydata)\n",
    "print(popt)\n",
    "\n",
    "## draw the obtained curve\n",
    "new_x = np.linspace(0, 4, 100)\n",
    "new_y =func(new_x, popt[0], popt[1], popt[2])\n",
    "\n",
    "plt.plot(new_x, new_y, 'r-', label='data')"
   ]
  },
  {
   "cell_type": "markdown",
   "metadata": {},
   "source": [
    "--- \n",
    "\n",
    "Now let's create a Python class with the same functionalities for curve fitting. Below is a skeleton code as the starting point.  **Review the code and try running it. Make sure you understand what this code is doing.**"
   ]
  },
  {
   "cell_type": "code",
   "execution_count": 43,
   "metadata": {},
   "outputs": [],
   "source": [
    "import numpy as np\n",
    "import matplotlib.pyplot as plt\n",
    "from scipy.optimize import curve_fit\n",
    "\n",
    "\n",
    "\n",
    "class FitData:\n",
    "\n",
    "    def __init__(xdata, ydata):\n",
    "        self.xdata = xdata\n",
    "        self.ydata = ydata\n",
    "        \n",
    "    def summary_stats(self):\n",
    "        return {\n",
    "            \"mean_x\": np.mean(self.xdata), \n",
    "            \"std_x\": np.std(self.xdata),\n",
    "            \"mean_y\": np.mean(self.ydata),\n",
    "            \"std_y\": np.std(self.ydata)\n",
    "        }\n",
    "\n",
    "    def CurveFit_model(self):\n",
    "        popt = curve_fit(self.func, self.xdata, self.ydata)\n",
    "        return {\n",
    "            \"coefficient a\": popt[0],\n",
    "            \"coefficient b\": popt[1], \n",
    "            \"coefficient c\": popt[2]\n",
    "        }\n"
   ]
  },
  {
   "cell_type": "markdown",
   "metadata": {},
   "source": [
    "### Modifying the class to alter its behavior and add new functionality\n",
    "\n",
    "For the remainder of this section of the assignment, **you will be modifying the code of the class** ( provided above) to add new functionality and alter its behavior. \n",
    "\n",
    "<!--\n",
    "You will then be provided with snippets of code designed to test your modifications and confirm that you've implemented them as intended. -->\n",
    "\n",
    "**When you make edits to the class provided, make sure to run the cell to save your changes before running tests!**\n",
    "\n",
    "_<font color=\"red\">Note</font>_: Feel free to experiment with using one of the generative AI tools out there to help you expand upon and modify the initial starting point for this new Python class. If you do this, **make sure to include a link to the tool you used in the markdown cell below along with the prompt you used to generate the code and the date you accessed the tool.** Additionally, it is important to make sure that you understand the code you're working with, so make sure to review the code that is generated and make sure you understand what it is doing!"
   ]
  },
  {
   "cell_type": "markdown",
   "metadata": {},
   "source": [
    "Let's define the target function in the cell below. Run it."
   ]
  },
  {
   "cell_type": "code",
   "execution_count": 44,
   "metadata": {},
   "outputs": [],
   "source": [
    "import numpy as np\n",
    "\n",
    "def func(x, a, b, c):\n",
    "    return a * np.exp(-b * x) + c"
   ]
  },
  {
   "cell_type": "markdown",
   "metadata": {},
   "source": [
    "Copy the OOP code to this cell and work from here."
   ]
  },
  {
   "cell_type": "code",
   "execution_count": 51,
   "metadata": {},
   "outputs": [],
   "source": [
    "# Copy the code to this cell.\n",
    "# For the assignment prompts that follow, EDIT THIS VERSION OF THE PYTHON CLASS\n",
    "# This should help to ensure that you can always fall back to the original version provided above, should you need to.\n",
    "#Citation: OpenAI. ChatGPT, Feb 21 version, OpenAI, 2025, https://openai.com.\n",
    "class FitData:\n",
    "    def __init__(self, xdata, ydata):\n",
    "        self.xdata = xdata\n",
    "        self.ydata = ydata\n",
    "        self.popt = None\n",
    "\n",
    "    def func(self, x, a, b, c):\n",
    "        \"\"\"Exponential function to fit the data.\"\"\"\n",
    "        return a * np.exp(-b * x) + c\n",
    "\n",
    "    def summary_stats(self):\n",
    "        \"\"\"Returns summary statistics for x and y data.\"\"\"\n",
    "        return {\n",
    "            \"mean_x\": np.mean(self.xdata),\n",
    "            \"std_x\": np.std(self.xdata),\n",
    "            \"mean_y\": np.mean(self.ydata),\n",
    "            \"std_y\": np.std(self.ydata)\n",
    "        }\n",
    "\n",
    "    def CurveFit_model(self):\n",
    "        \"\"\"Performs curve fitting and stores optimized parameters.\"\"\"\n",
    "        self.popt, _ = curve_fit(self.func, self.xdata, self.ydata)\n",
    "        return {\n",
    "            \"coefficient a\": self.popt[0],\n",
    "            \"coefficient b\": self.popt[1],\n",
    "            \"coefficient c\": self.popt[2]\n",
    "        }\n",
    "\n",
    "    def plot_fit(self):\n",
    "        \"\"\"Plots the original data and the fitted curve.\"\"\"\n",
    "        if self.popt is None:\n",
    "            print(\"Curve fitting has not been performed yet. Run CurveFit_model first.\")\n",
    "            return\n",
    "\n",
    "        plt.figure(figsize=(8, 5))\n",
    "        plt.scatter(self.xdata, self.ydata, color='blue', label='Data Points', alpha=0.7)\n",
    "        new_x = np.linspace(min(self.xdata), max(self.xdata), 100)\n",
    "        new_y = self.func(new_x, *self.popt)\n",
    "        plt.plot(new_x, new_y, 'r-', label='Fitted Curve')\n",
    "\n",
    "        plt.xlabel(\"X Data\")\n",
    "        plt.ylabel(\"Y Data\")\n",
    "        plt.title(\"Curve Fitting Plot\")\n",
    "        plt.legend()\n",
    "        plt.grid(True)\n",
    "        plt.show()"
   ]
  },
  {
   "cell_type": "markdown",
   "metadata": {},
   "source": [
    "&#9989; **Questions 5.1 (3 points)**: Test the class by **running the following code to see what the output is**. **Debug the `FitData` class.** **DO NOT MODIFY THIS CODE CELL**. (so that you can remember what the bug was)"
   ]
  },
  {
   "cell_type": "code",
   "execution_count": 55,
   "metadata": {},
   "outputs": [
    {
     "ename": "TypeError",
     "evalue": "FitData.CurveFit_model() takes 1 positional argument but 2 were given",
     "output_type": "error",
     "traceback": [
      "\u001b[0;31m---------------------------------------------------------------------------\u001b[0m",
      "\u001b[0;31mTypeError\u001b[0m                                 Traceback (most recent call last)",
      "Cell \u001b[0;32mIn[55], line 10\u001b[0m\n\u001b[1;32m      8\u001b[0m data \u001b[38;5;241m=\u001b[39m FitData(xdata, ydata)\n\u001b[1;32m      9\u001b[0m stats \u001b[38;5;241m=\u001b[39m data\u001b[38;5;241m.\u001b[39msummary_stats()\n\u001b[0;32m---> 10\u001b[0m model \u001b[38;5;241m=\u001b[39m \u001b[43mdata\u001b[49m\u001b[38;5;241;43m.\u001b[39;49m\u001b[43mCurveFit_model\u001b[49m\u001b[43m(\u001b[49m\u001b[43mfunc\u001b[49m\u001b[43m)\u001b[49m\n\u001b[1;32m     13\u001b[0m \u001b[38;5;28mprint\u001b[39m(stats)\n\u001b[1;32m     14\u001b[0m \u001b[38;5;28mprint\u001b[39m(model)\n",
      "\u001b[0;31mTypeError\u001b[0m: FitData.CurveFit_model() takes 1 positional argument but 2 were given"
     ]
    }
   ],
   "source": [
    "## DO NOT CHANGE THIS CELL ##\n",
    "\n",
    "# This is an example usage of the class \"ModelData\" If it doesn't work, you need to make changes to the class.\n",
    "import matplotlib.pyplot as plt\n",
    "\n",
    "fn = func\n",
    "\n",
    "data = FitData(xdata, ydata)\n",
    "stats = data.summary_stats()\n",
    "model = data.CurveFit_model(func)\n",
    "\n",
    "\n",
    "print(stats)\n",
    "print(model)"
   ]
  },
  {
   "cell_type": "markdown",
   "metadata": {},
   "source": [
    "**DO THIS**: Now that you understand what the bug(s) is(are), fix it(them) in the cell below and **add a comment** explaining what the bug(s) was(were) and how you fixed it."
   ]
  },
  {
   "cell_type": "code",
   "execution_count": 56,
   "metadata": {},
   "outputs": [
    {
     "name": "stdout",
     "output_type": "stream",
     "text": [
      "{'mean_x': 1.980762607819844, 'std_x': 1.1321723038602272, 'mean_y': 1.1428380513487644, 'std_y': 0.8285443686762148}\n",
      "{'coefficient a': 3.0861440512899163, 'coefficient b': 1.779336618459027, 'coefficient c': 0.6838652916422291}\n"
     ]
    }
   ],
   "source": [
    "# Put your non-buggy code here\n",
    "import matplotlib.pyplot as plt\n",
    "\n",
    "fn = func\n",
    "\n",
    "data = FitData(xdata, ydata)\n",
    "stats = data.summary_stats()\n",
    "model = data.CurveFit_model()\n",
    "\n",
    "\n",
    "print(stats)\n",
    "print(model)"
   ]
  },
  {
   "cell_type": "markdown",
   "metadata": {},
   "source": [
    "&#9989; **Question 5.2 (4 points)**: Now, **create a new class method named `plot_model`.** It takes three input arguments: `magnitude`, `exponet`, and `intercept`. For the output, it generates two plots on the same figure: one is the scatter data points {(xdata, ydata)} and the other is the fitted curve."
   ]
  },
  {
   "cell_type": "code",
   "execution_count": 57,
   "metadata": {},
   "outputs": [],
   "source": [
    "# Put your code here\n",
    "class FitData:\n",
    "    def __init__(self, xdata, ydata):\n",
    "        \"\"\" Initialize the class with xdata and ydata \"\"\"\n",
    "        self.xdata = xdata\n",
    "        self.ydata = ydata\n",
    "        self.popt = None  # Placeholder for fitted parameters\n",
    "\n",
    "    def func(self, x, a, b, c):\n",
    "        \"\"\" Defines the target function for curve fitting \"\"\"\n",
    "        return a * np.exp(-b * x) + c\n",
    "\n",
    "    def summary_stats(self):\n",
    "        \"\"\" Returns mean and standard deviation for x and y data \"\"\"\n",
    "        return {\n",
    "            \"mean_x\": np.mean(self.xdata),\n",
    "            \"std_x\": np.std(self.xdata),\n",
    "            \"mean_y\": np.mean(self.ydata),\n",
    "            \"std_y\": np.std(self.ydata)\n",
    "        }\n",
    "\n",
    "    def CurveFit_model(self, *args):  # Accepts extra arguments but ignores them\n",
    "        \"\"\" Performs curve fitting and returns the optimized parameters \"\"\"\n",
    "        self.popt, _ = curve_fit(self.func, self.xdata, self.ydata)\n",
    "        return {\n",
    "            \"coefficient a\": self.popt[0],\n",
    "            \"coefficient b\": self.popt[1],\n",
    "            \"coefficient c\": self.popt[2]\n",
    "        }\n",
    "\n",
    "    def plot_model(self, magnitude, exponent, intercept):\n",
    "        \"\"\" \n",
    "        Generates two plots on the same figure:\n",
    "        1. Scatter plot of original data (xdata, ydata)\n",
    "        2. Fitted curve using given parameters (magnitude, exponent, intercept)\n",
    "        \"\"\"\n",
    "        plt.figure(figsize=(8, 5))\n",
    "\n",
    "        # Scatter plot of data points\n",
    "        plt.scatter(self.xdata, self.ydata, color='blue', label='Data Points', alpha=0.7)\n",
    "\n",
    "        # Generate fitted curve using provided parameters\n",
    "        new_x = np.linspace(min(self.xdata), max(self.xdata), 100)\n",
    "        new_y = self.func(new_x, magnitude, exponent, intercept)\n",
    "        plt.plot(new_x, new_y, 'r-', label='Fitted Curve')\n",
    "\n",
    "        # Labels and title\n",
    "        plt.xlabel(\"X Data\")\n",
    "        plt.ylabel(\"Y Data\")\n",
    "        plt.title(\"Scatter Plot with Fitted Curve\")\n",
    "        plt.legend()\n",
    "        plt.grid(True)\n",
    "        plt.show()\n"
   ]
  },
  {
   "cell_type": "markdown",
   "metadata": {},
   "source": [
    "&#9989; **Question 5.3 (2 points)**: Create a new class method called `predict` that predicts and returns the model prediction for a given input value $x$. \n",
    "\n",
    "If your `predict` method in `FitData` class works well, you should be able to test your `FitData` model using the cell below."
   ]
  },
  {
   "cell_type": "code",
   "execution_count": 59,
   "metadata": {},
   "outputs": [
    {
     "ename": "TypeError",
     "evalue": "FitData.plot_model() missing 3 required positional arguments: 'magnitude', 'exponent', and 'intercept'",
     "output_type": "error",
     "traceback": [
      "\u001b[0;31m---------------------------------------------------------------------------\u001b[0m",
      "\u001b[0;31mTypeError\u001b[0m                                 Traceback (most recent call last)",
      "Cell \u001b[0;32mIn[59], line 7\u001b[0m\n\u001b[1;32m      5\u001b[0m CurvF_test1 \u001b[38;5;241m=\u001b[39m FitData(xdata, ydata)\n\u001b[1;32m      6\u001b[0m CurvF_test1\u001b[38;5;241m.\u001b[39mCurveFit_model(func)\n\u001b[0;32m----> 7\u001b[0m \u001b[43mCurvF_test1\u001b[49m\u001b[38;5;241;43m.\u001b[39;49m\u001b[43mplot_model\u001b[49m\u001b[43m(\u001b[49m\u001b[43m)\u001b[49m\n\u001b[1;32m      9\u001b[0m x_new \u001b[38;5;241m=\u001b[39m np\u001b[38;5;241m.\u001b[39marray([\u001b[38;5;241m5.0\u001b[39m, \u001b[38;5;241m6.5\u001b[39m, \u001b[38;5;241m-\u001b[39m\u001b[38;5;241m1.5\u001b[39m]) \n\u001b[1;32m     10\u001b[0m y_pred \u001b[38;5;241m=\u001b[39m CurvF_test1\u001b[38;5;241m.\u001b[39mpredict(x_new)\n",
      "\u001b[0;31mTypeError\u001b[0m: FitData.plot_model() missing 3 required positional arguments: 'magnitude', 'exponent', and 'intercept'"
     ]
    }
   ],
   "source": [
    "## DO NOT CHANGE THIS CELL ##\n",
    "\n",
    "# This is an example usage of the \"predict\" method. If it doesn't work, you need to make changes to your method.\n",
    "\n",
    "CurvF_test1 = FitData(xdata, ydata)\n",
    "CurvF_test1.CurveFit_model(func)\n",
    "CurvF_test1.plot_model()\n",
    "\n",
    "x_new = np.array([5.0, 6.5, -1.5]) \n",
    "y_pred = CurvF_test1.predict(x_new)\n",
    "\n",
    "y_pred"
   ]
  },
  {
   "cell_type": "code",
   "execution_count": 64,
   "metadata": {},
   "outputs": [
    {
     "data": {
      "image/png": "[encoded data removed]",
      "text/plain": [
       "<Figure size 800x500 with 1 Axes>"
      ]
     },
     "metadata": {},
     "output_type": "display_data"
    },
    {
     "data": {
      "text/plain": [
       "array([ 0.68428761,  0.68389457, 45.20336814])"
      ]
     },
     "execution_count": 64,
     "metadata": {},
     "output_type": "execute_result"
    }
   ],
   "source": [
    "CurvF_test1 = FitData(xdata, ydata)\n",
    "CurvF_test1.CurveFit_model()\n",
    "CurvF_test1.plot_model()\n",
    "\n",
    "x_new = np.array([5.0, 6.5, -1.5]) \n",
    "y_pred = CurvF_test1.predict(x_new)\n",
    "\n",
    "y_pred"
   ]
  },
  {
   "cell_type": "markdown",
   "metadata": {},
   "source": [
    "### Testing your `FitData` class on real data\n",
    "\n",
    "Now that you have an enhanced version of the initial `FitData` class, let's see if it works as intended on some real data! Let's see if your new class produces results that makes sense on Iris data.\n",
    "\n",
    "&#9989; **Question 5.4 (4 points)**: **You will need to do this in the following steps:** \n",
    " * First, download the Iris data from https://raw.githubusercontent.com/yangy5/HWFiles/main/Iris.csv. \n",
    " * Extract the data of species \"versicolor\".\n",
    " * Extract the data \"sepal_length\" and \"sepal_width\" from your versicolor data frame and save these values in two numpy arrays. (1 pt)\n",
    " * Next, create a new instance of your `FitData` class, then use these numpy arrays as data points to fit the target curve given eariler. (2 pt)\n",
    " * Finally, use your `plot_model` method (see **Question 5.2**) to plot the line as well as all the data points. (1 pt)\n"
   ]
  },
  {
   "cell_type": "code",
   "execution_count": 70,
   "metadata": {},
   "outputs": [],
   "source": [
    "# download the data using curl\n",
    "iris_df = pd.read_csv(\"https://raw.githubusercontent.com/yangy5/HWFiles/main/Iris.csv\")"
   ]
  },
  {
   "cell_type": "code",
   "execution_count": 71,
   "metadata": {},
   "outputs": [
    {
     "data": {
      "text/html": [
       "<div>\n",
       "<style scoped>\n",
       "    .dataframe tbody tr th:only-of-type {\n",
       "        vertical-align: middle;\n",
       "    }\n",
       "\n",
       "    .dataframe tbody tr th {\n",
       "        vertical-align: top;\n",
       "    }\n",
       "\n",
       "    .dataframe thead th {\n",
       "        text-align: right;\n",
       "    }\n",
       "</style>\n",
       "<table border=\"1\" class=\"dataframe\">\n",
       "  <thead>\n",
       "    <tr style=\"text-align: right;\">\n",
       "      <th></th>\n",
       "      <th>sepal_length</th>\n",
       "      <th>sepal_width</th>\n",
       "      <th>petal_length</th>\n",
       "      <th>petal_width</th>\n",
       "      <th>species</th>\n",
       "    </tr>\n",
       "  </thead>\n",
       "  <tbody>\n",
       "    <tr>\n",
       "      <th>0</th>\n",
       "      <td>5.1</td>\n",
       "      <td>3.5</td>\n",
       "      <td>1.4</td>\n",
       "      <td>0.2</td>\n",
       "      <td>setosa</td>\n",
       "    </tr>\n",
       "    <tr>\n",
       "      <th>1</th>\n",
       "      <td>4.9</td>\n",
       "      <td>3.0</td>\n",
       "      <td>1.4</td>\n",
       "      <td>0.2</td>\n",
       "      <td>setosa</td>\n",
       "    </tr>\n",
       "    <tr>\n",
       "      <th>2</th>\n",
       "      <td>4.7</td>\n",
       "      <td>3.2</td>\n",
       "      <td>1.3</td>\n",
       "      <td>0.2</td>\n",
       "      <td>setosa</td>\n",
       "    </tr>\n",
       "    <tr>\n",
       "      <th>3</th>\n",
       "      <td>4.6</td>\n",
       "      <td>3.1</td>\n",
       "      <td>1.5</td>\n",
       "      <td>0.2</td>\n",
       "      <td>setosa</td>\n",
       "    </tr>\n",
       "    <tr>\n",
       "      <th>4</th>\n",
       "      <td>5.0</td>\n",
       "      <td>3.6</td>\n",
       "      <td>1.4</td>\n",
       "      <td>0.2</td>\n",
       "      <td>setosa</td>\n",
       "    </tr>\n",
       "  </tbody>\n",
       "</table>\n",
       "</div>"
      ],
      "text/plain": [
       "   sepal_length  sepal_width  petal_length  petal_width species\n",
       "0           5.1          3.5           1.4          0.2  setosa\n",
       "1           4.9          3.0           1.4          0.2  setosa\n",
       "2           4.7          3.2           1.3          0.2  setosa\n",
       "3           4.6          3.1           1.5          0.2  setosa\n",
       "4           5.0          3.6           1.4          0.2  setosa"
      ]
     },
     "execution_count": 71,
     "metadata": {},
     "output_type": "execute_result"
    }
   ],
   "source": [
    "# use Pandas to load data\n",
    "iris_df.head()"
   ]
  },
  {
   "cell_type": "markdown",
   "metadata": {},
   "source": [
    "---\n",
    "## &#128721; STOP\n",
    "**Pause to commit your changes to your Git repository! (1 point)**\n",
    "\n",
    "Take a moment to save your notebook, commit the changes to your Git repository using the commit message \"**Committing Part 5**\", no need to push the changes to GitHub yet, but you can if you want."
   ]
  },
  {
   "cell_type": "markdown",
   "metadata": {},
   "source": [
    "---\n",
    "<a id=\"conclusion\"></a>\n",
    "[Back to ToC](#toc)\n",
    "\n",
    "## Part 6: Finishing (6 points)\n",
    "\n",
    "\n",
    "**Question 6.1 (2 points):** Have you put **your name** and **GitHub username** at the top of your notebook?\n",
    "\n",
    "**Question 6.2 (2 points):** Have you added the **TA** and **Instructor** to your GitHub repository? (You should have done this in Part 1, and they should have shared this information via Slack)\n",
    "\n",
    "**Question 6.3 (2 points):** Finally, push your repository to GitHub so that all of the commits that you have been making along the way show up on GitHub.\n",
    "\n"
   ]
  },
  {
   "cell_type": "code",
   "execution_count": 73,
   "metadata": {},
   "outputs": [
    {
     "name": "stdout",
     "output_type": "stream",
     "text": [
      "Everything up-to-date\n"
     ]
    }
   ],
   "source": [
    "# Put the command you used to push to GitHub here\n",
    "!git push origin main"
   ]
  },
  {
   "cell_type": "markdown",
   "metadata": {},
   "source": [
    "**NOTE:** The grader will be able to see your commit messages and whether you pushed the repo at this stage, if everything have gone as planned. The version on Github will be graded for this assignment."
   ]
  },
  {
   "cell_type": "markdown",
   "metadata": {},
   "source": [
    "---\n",
    "## Assignment wrap-up\n",
    "\n",
    "Please fill out the form that appears when you run the code below.  **You must completely fill this out in order to receive credit for the assignment!**"
   ]
  },
  {
   "cell_type": "code",
   "execution_count": 74,
   "metadata": {
    "ExecuteTime": {
     "end_time": "2022-09-08T16:05:27.551532Z",
     "start_time": "2022-09-08T16:05:27.546612Z"
    }
   },
   "outputs": [
    {
     "data": {
      "text/html": [
       "\n",
       "<iframe \n",
       "\tsrc=\"https://forms.office.com/r/XKjjVkQDca\" \n",
       "\twidth=\"800px\" \n",
       "\theight=\"600px\" \n",
       "\tframeborder=\"0\" \n",
       "\tmarginheight=\"0\" \n",
       "\tmarginwidth=\"0\">\n",
       "\tLoading...\n",
       "</iframe>\n"
      ],
      "text/plain": [
       "<IPython.core.display.HTML object>"
      ]
     },
     "execution_count": 74,
     "metadata": {},
     "output_type": "execute_result"
    }
   ],
   "source": [
    "from IPython.display import HTML\n",
    "HTML(\n",
    "\"\"\"\n",
    "<iframe \n",
    "\tsrc=\"https://forms.office.com/r/XKjjVkQDca\" \n",
    "\twidth=\"800px\" \n",
    "\theight=\"600px\" \n",
    "\tframeborder=\"0\" \n",
    "\tmarginheight=\"0\" \n",
    "\tmarginwidth=\"0\">\n",
    "\tLoading...\n",
    "</iframe>\n",
    "\"\"\"\n",
    ")"
   ]
  },
  {
   "cell_type": "markdown",
   "metadata": {},
   "source": [
    "### Congratulations, you're done!\n",
    "\n",
    "If you like, you can upload this file to D2L for a record. Nevertheless, **we will grade the copy on GitHub**. \n"
   ]
  },
  {
   "cell_type": "markdown",
   "metadata": {},
   "source": [
    "&#169; Copyright 2025,  Department of Computational Mathematics, Science and Engineering at Michigan State University"
   ]
  }
 ],
 "metadata": {
  "anaconda-cloud": {},
  "kernelspec": {
   "display_name": "Python 3.11 (default)",
   "language": "python",
   "name": "python3"
  },
  "language_info": {
   "codemirror_mode": {
    "name": "ipython",
    "version": 3
   },
   "file_extension": ".py",
   "mimetype": "text/x-python",
   "name": "python",
   "nbconvert_exporter": "python",
   "pygments_lexer": "ipython3",
   "version": "3.11.11"
  },
  "latex_envs": {
   "LaTeX_envs_menu_present": true,
   "autoclose": false,
   "autocomplete": true,
   "bibliofile": "biblio.bib",
   "cite_by": "apalike",
   "current_citInitial": 1,
   "eqLabelWithNumbers": true,
   "eqNumInitial": 1,
   "hotkeys": {
    "equation": "Ctrl-E",
    "itemize": "Ctrl-I"
   },
   "labels_anchors": false,
   "latex_user_defs": false,
   "report_style_numbering": false,
   "user_envs_cfg": false
  },
  "toc": {
   "base_numbering": 1,
   "nav_menu": {},
   "number_sections": true,
   "sideBar": true,
   "skip_h1_title": false,
   "title_cell": "Table of Contents",
   "title_sidebar": "Contents",
   "toc_cell": false,
   "toc_position": {},
   "toc_section_display": true,
   "toc_window_display": false
  },
  "widgets": {
   "application/vnd.jupyter.widget-state+json": {
    "state": {},
    "version_major": 2,
    "version_minor": 0
   }
  }
 },
 "nbformat": 4,
 "nbformat_minor": 4
}
